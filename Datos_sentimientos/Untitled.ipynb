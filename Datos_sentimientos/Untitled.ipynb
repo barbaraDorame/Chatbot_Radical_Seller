{
 "cells": [
  {
   "cell_type": "code",
   "execution_count": 31,
   "metadata": {
    "collapsed": true
   },
   "outputs": [],
   "source": [
    "from gensim import corpora, models, similarities\n",
    "from gensim.corpora import Dictionary\n",
    "import spacy"
   ]
  },
  {
   "cell_type": "code",
   "execution_count": 76,
   "metadata": {},
   "outputs": [],
   "source": [
    "with open('Negativas.txt', 'r') as f:\n",
    "    negativas = f.read()\n",
    "\n",
    "with open('Positivas.txt', 'r') as fi:\n",
    "    positivas = fi.read()\n",
    "\n",
    "nlp = spacy.load(\"es_core_news_sm\")"
   ]
  },
  {
   "cell_type": "code",
   "execution_count": 101,
   "metadata": {},
   "outputs": [],
   "source": [
    "def procesar_sentimientos(texto):\n",
    "    texto = [texto, [\"\"]]\n",
    "    dictionary = Dictionary(texto)\n",
    "    corpus = [dictionary.doc2bow(palabra) for palabra in texto]\n",
    "    \n",
    "    vec_positivo = dictionary.doc2bow(positivas.lower().split())\n",
    "    vec_negativo = dictionary.doc2bow(negativas.lower().split())\n",
    "    \n",
    "    tfidf = models.TfidfModel(corpus)\n",
    "    index = similarities.SparseMatrixSimilarity(tfidf[corpus], num_features=12)\n",
    "    porcentaje_positivo = index[tfidf[vec_positivo]]\n",
    "    porcentaje_negativo = index[tfidf[vec_negativo]]\n",
    "    valorpos = (list(enumerate(porcentaje_positivo))[0][1])\n",
    "    valorneg = (list(enumerate(porcentaje_negativo))[0][1])\n",
    "    \n",
    "    if valorpos >= valorneg:\n",
    "        return valorpos\n",
    "    else:\n",
    "        return valorneg"
   ]
  },
  {
   "cell_type": "code",
   "execution_count": 102,
   "metadata": {},
   "outputs": [
    {
     "name": "stdout",
     "output_type": "stream",
     "text": [
      "0.730297\n"
     ]
    }
   ],
   "source": [
    "print(procesar_sentimientos([\"jugar\", \"poder\", \"palabra\", \"querer\", \"pedir\"]))"
   ]
  },
  {
   "cell_type": "code",
   "execution_count": null,
   "metadata": {
    "collapsed": true
   },
   "outputs": [],
   "source": []
  }
 ],
 "metadata": {
  "kernelspec": {
   "display_name": "Python 3",
   "language": "python",
   "name": "python3"
  },
  "language_info": {
   "codemirror_mode": {
    "name": "ipython",
    "version": 3
   },
   "file_extension": ".py",
   "mimetype": "text/x-python",
   "name": "python",
   "nbconvert_exporter": "python",
   "pygments_lexer": "ipython3",
   "version": "3.6.3"
  }
 },
 "nbformat": 4,
 "nbformat_minor": 2
}
